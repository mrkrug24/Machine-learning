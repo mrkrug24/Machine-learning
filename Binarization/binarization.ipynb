{
 "cells": [
  {
   "cell_type": "code",
   "execution_count": 10,
   "metadata": {},
   "outputs": [],
   "source": [
    "import cv2\n",
    "import numpy as np"
   ]
  },
  {
   "attachments": {},
   "cell_type": "markdown",
   "metadata": {},
   "source": [
    "Convert the image to grayscale"
   ]
  },
  {
   "cell_type": "code",
   "execution_count": 11,
   "metadata": {},
   "outputs": [
    {
     "data": {
      "text/plain": [
       "True"
      ]
     },
     "execution_count": 11,
     "metadata": {},
     "output_type": "execute_result"
    }
   ],
   "source": [
    "doc_colour = cv2.imread(\"img.jpg\")\n",
    "doc_gray = 0.21 * doc_colour[:,:,0] + 0.72 * doc_colour[:,:,1] + 0.07 * doc_colour[:,:,2] \n",
    "cv2.imwrite(\"img_gray.jpg\", doc_gray)"
   ]
  },
  {
   "attachments": {},
   "cell_type": "markdown",
   "metadata": {},
   "source": [
    "Заполняем гистограмму"
   ]
  },
  {
   "cell_type": "code",
   "execution_count": null,
   "metadata": {},
   "outputs": [],
   "source": [
    "hist = np.zeros(256)\n",
    "\n",
    "min = 0\n",
    "max = 0\n",
    "mid = 0\n",
    "sum = 0\n",
    "\n",
    "for i in range(doc_gray.shape[0]):\n",
    "    for j in range(doc_gray.shape[1]):\n",
    "        sum += doc_gray[i][j]\n",
    "        \n",
    "        if doc_gray[i][j] > max:\n",
    "            max = doc_gray[i][j]\n",
    "        \n",
    "        if doc_gray[i][j] < min:\n",
    "            min = doc_gray[i][j]\n",
    "                \n",
    "mid = sum / (doc_gray.shape[0] * doc_gray.shape[1])\n",
    "\n",
    "print(min, mid, max)\n",
    "print(doc_gray.shape)\n",
    "\n",
    "for i in range(doc_gray.shape[0]):\n",
    "    for j in range(doc_gray.shape[1]):\n",
    "        hist[round(doc_gray[i][j])] += 1"
   ]
  },
  {
   "attachments": {},
   "cell_type": "markdown",
   "metadata": {},
   "source": [
    "Otsu - более оптимальная реализация"
   ]
  },
  {
   "cell_type": "code",
   "execution_count": null,
   "metadata": {},
   "outputs": [],
   "source": [
    "d_max = -1      # максимальное значение дисперсии\n",
    "threshold = 0   # искомое пороговое значение\n",
    "\n",
    "# вспомогательные переменные для нахождения среднего значения \n",
    "# сумма произведений интенсивности на соответствующее значение из гистограммы\n",
    "tmp_hist = 0;                                   # значение для всей гистограммы\n",
    "for i in range(256): tmp_hist += i * hist[i]\n",
    "\n",
    "tmp_black = 0           # первоначальное значение для класса черных пикселей\n",
    "tmp_white = tmp_hist    # первоначальное значение для класса белых пикселей\n",
    "\n",
    "sum_black = 0                                       # первоначальное количесвто черных пикселей в классе\n",
    "sum_hist = doc_gray.shape[0] * doc_gray.shape[1]    # количесвто всех пикселей\n",
    "\n",
    "# проверяем все возможные пороговые значения в порядке возрастания (0 - черный цвет, 255 - белый)\n",
    "for t in range(256):\n",
    "    # находим вероятности попадания произвольного пикселя в класс черных или белых пикселей\n",
    "    sum_black += hist[t]\n",
    "    pr_black = sum_black / sum_hist\n",
    "    pr_white = 1 - pr_black\n",
    "    \n",
    "    # находим средние значения интенсивности для каждого класса\n",
    "    tmp_black += t * hist[t]\n",
    "    tmp_white -= t * hist[t]\n",
    "        \n",
    "    av_black = tmp_black / pr_black\n",
    "    av_white = tmp_white / pr_white\n",
    "    \n",
    "    # вычисляем дисперсию между классами\n",
    "    d_cur = pr_black * pr_white * ((av_black - av_white) ** 2)\n",
    "    \n",
    "    # сравниваем ее с максимальной (если больше, то изменяем пороговое значение)\n",
    "    if d_max < d_cur:\n",
    "        threshold = t\n",
    "        d_max = d_cur\n",
    "        \n",
    "print(\"Пороговое значение - \", threshold)\n",
    "\n",
    "# осуществляем бинаризацию\n",
    "doc_bin = doc_gray\n",
    "\n",
    "for i in range(doc_gray.shape[0]):\n",
    "    for j in range(doc_gray.shape[1]):\n",
    "        if doc_gray[i][j] <= threshold:\n",
    "            doc_bin[i][j] = 0\n",
    "        else:\n",
    "            doc_bin[i][j] = 255\n",
    "\n",
    "cv2.imwrite(\"img_bin_1.jpg\", doc_bin)"
   ]
  },
  {
   "attachments": {},
   "cell_type": "markdown",
   "metadata": {},
   "source": [
    "Otsu - more understandable implementation for familiarization with the method"
   ]
  },
  {
   "cell_type": "code",
   "execution_count": null,
   "metadata": {},
   "outputs": [],
   "source": [
    "# проверяем все возможные пороговые значения\n",
    "threshold = 0\n",
    "d_max = -1\n",
    "\n",
    "for t in range(256):\n",
    "    # разбиваем пиксели на 2 класса\n",
    "    black = hist[0:t] \n",
    "    white = hist[t:]\n",
    "    \n",
    "    # находим вероятности попадания произвольного пикселя в класс черных или белых пикселей\n",
    "    prob_black = np.sum(black) / np.sum(hist)\n",
    "    prob_white = 1 - prob_black\n",
    "    \n",
    "    # находим средние значения интенсивности для каждого класса\n",
    "    average_black = 0\n",
    "    average_white = 0\n",
    "    \n",
    "    for i in range (black.shape[0]): average_black += i * black[i]\n",
    "    for i in range (white.shape[0]): average_white += (i + t) * white[i]\n",
    "        \n",
    "    average_black /= prob_black\n",
    "    average_white /= prob_white\n",
    "    \n",
    "    # вычисляем дисперсию между классами\n",
    "    d_cur = prob_black * prob_white * ((average_black - average_white) ** 2)\n",
    "    \n",
    "    # сравниваем ее с максимальной (если больше, то изменяем пороговое значение)\n",
    "    if d_max < d_cur:\n",
    "        threshold = t\n",
    "        d_max = d_cur\n",
    "        \n",
    "# осуществляем бинаризацию\n",
    "doc_bin = doc_gray\n",
    "\n",
    "for i in range(doc_gray.shape[0]):\n",
    "    for j in range(doc_gray.shape[1]):\n",
    "        if doc_gray[i][j] <= threshold:\n",
    "            doc_bin[i][j] = 0\n",
    "        else:\n",
    "            doc_bin[i][j] = 255\n",
    "\n",
    "cv2.imwrite(\"img_bin_2.jpg\", doc_bin)"
   ]
  }
 ],
 "metadata": {
  "kernelspec": {
   "display_name": "Python 3",
   "language": "python",
   "name": "python3"
  },
  "language_info": {
   "codemirror_mode": {
    "name": "ipython",
    "version": 3
   },
   "file_extension": ".py",
   "mimetype": "text/x-python",
   "name": "python",
   "nbconvert_exporter": "python",
   "pygments_lexer": "ipython3",
   "version": "3.11.3"
  },
  "orig_nbformat": 4,
  "vscode": {
   "interpreter": {
    "hash": "11938c6bc6919ae2720b4d5011047913343b08a43b18698fd82dedb0d4417594"
   }
  }
 },
 "nbformat": 4,
 "nbformat_minor": 2
}
