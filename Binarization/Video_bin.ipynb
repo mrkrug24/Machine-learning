{
 "cells": [
  {
   "cell_type": "code",
   "execution_count": 1,
   "metadata": {},
   "outputs": [],
   "source": [
    "import cv2\n",
    "import numpy as np"
   ]
  },
  {
   "cell_type": "code",
   "execution_count": null,
   "metadata": {},
   "outputs": [],
   "source": [
    "cap = cv2.VideoCapture('Video/1.mp4')\n",
    "\n",
    "fourcc = cv2.VideoWriter_fourcc(*'XVID')\n",
    "out = cv2.VideoWriter('output.avi', fourcc, 20.0, (540, 960))\n",
    "\n",
    "while True:\n",
    "    success, img = cap.read()\n",
    "    \n",
    "    if success == True:\n",
    "        new_img = cv2.resize(img, (img.shape[1] // 2, img.shape[0] // 2))\n",
    "        \n",
    "        new_img = cv2.cvtColor(new_img, cv2.COLOR_BGR2GRAY) #заранее перевести в серый\n",
    "        \n",
    "        new_img = cv2.Canny(new_img, 200, 200) #контуры - бинарный формат (0 и 1)     Чем меньше числа, тем больше точность\n",
    "        \n",
    "        kernel = np.ones((2, 2), np.uint8) #uinSt8 - натуральные толщина слоя\n",
    "        new_img = cv2.dilate(new_img, kernel, iterations=1) \n",
    "        \n",
    "        new_img = cv2.erode(new_img, kernel, iterations=1)\n",
    "        \n",
    "        out.write(new_img)\n",
    "        \n",
    "        cv2.imshow('Show video', new_img)\n",
    "        cv2.waitKey(1)\n",
    "    \n",
    "    else:\n",
    "        cv2.destroyAllWindows()\n",
    "        break\n",
    "    \n",
    "cap.release() \n",
    "out.release()\n",
    "cv2.destroyAllWindows()"
   ]
  }
 ],
 "metadata": {
  "kernelspec": {
   "display_name": "Python 3",
   "language": "python",
   "name": "python3"
  },
  "language_info": {
   "codemirror_mode": {
    "name": "ipython",
    "version": 3
   },
   "file_extension": ".py",
   "mimetype": "text/x-python",
   "name": "python",
   "nbconvert_exporter": "python",
   "pygments_lexer": "ipython3",
   "version": "3.11.3"
  },
  "orig_nbformat": 4
 },
 "nbformat": 4,
 "nbformat_minor": 2
}
